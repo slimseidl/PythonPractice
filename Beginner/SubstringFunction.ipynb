{
 "cells": [
  {
   "cell_type": "code",
   "execution_count": 3,
   "id": "caf4dfdd",
   "metadata": {},
   "outputs": [],
   "source": [
    "def substring(stringOfWords, wordToFind):\n",
    "    x = stringOfWords.count(wordToFind)\n",
    "    return x\n"
   ]
  },
  {
   "cell_type": "code",
   "execution_count": 11,
   "id": "fc1d20d5",
   "metadata": {},
   "outputs": [],
   "source": [
    "x = substring(\"This is just a very very very very very very very poor sentence.\", \"very\")"
   ]
  },
  {
   "cell_type": "code",
   "execution_count": 12,
   "id": "63026353",
   "metadata": {},
   "outputs": [
    {
     "name": "stdout",
     "output_type": "stream",
     "text": [
      "7\n"
     ]
    }
   ],
   "source": [
    "print(x)"
   ]
  },
  {
   "cell_type": "code",
   "execution_count": null,
   "id": "4e61c7ad",
   "metadata": {},
   "outputs": [],
   "source": []
  }
 ],
 "metadata": {
  "kernelspec": {
   "display_name": "Python 3",
   "language": "python",
   "name": "python3"
  },
  "language_info": {
   "codemirror_mode": {
    "name": "ipython",
    "version": 3
   },
   "file_extension": ".py",
   "mimetype": "text/x-python",
   "name": "python",
   "nbconvert_exporter": "python",
   "pygments_lexer": "ipython3",
   "version": "3.13.5"
  }
 },
 "nbformat": 4,
 "nbformat_minor": 5
}
