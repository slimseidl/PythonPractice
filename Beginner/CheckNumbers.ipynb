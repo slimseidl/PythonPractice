{
 "cells": [
  {
   "cell_type": "code",
   "execution_count": 8,
   "id": "afe88149",
   "metadata": {},
   "outputs": [],
   "source": [
    "nums1 = [10, 20, 30, 40, 10]\n",
    "nums2 = [75, 65, 35, 75, 750]\n"
   ]
  },
  {
   "cell_type": "code",
   "execution_count": 11,
   "id": "bcdfcd27",
   "metadata": {},
   "outputs": [],
   "source": [
    "def checkNums(numList):\n",
    "    if numList[-1] == numList[0]:\n",
    "        val = \"True\"\n",
    "    else:\n",
    "        val = \"False\"\n",
    "    return val"
   ]
  },
  {
   "cell_type": "code",
   "execution_count": 12,
   "id": "3ff92cb7",
   "metadata": {},
   "outputs": [
    {
     "data": {
      "text/plain": [
       "'False'"
      ]
     },
     "execution_count": 12,
     "metadata": {},
     "output_type": "execute_result"
    }
   ],
   "source": [
    "checkNums(nums2)"
   ]
  },
  {
   "cell_type": "code",
   "execution_count": 13,
   "id": "2c6e35b6",
   "metadata": {},
   "outputs": [
    {
     "data": {
      "text/plain": [
       "'True'"
      ]
     },
     "execution_count": 13,
     "metadata": {},
     "output_type": "execute_result"
    }
   ],
   "source": [
    "checkNums(nums1)"
   ]
  },
  {
   "cell_type": "code",
   "execution_count": null,
   "id": "c0a1a06a",
   "metadata": {},
   "outputs": [],
   "source": []
  }
 ],
 "metadata": {
  "kernelspec": {
   "display_name": "Python 3",
   "language": "python",
   "name": "python3"
  },
  "language_info": {
   "codemirror_mode": {
    "name": "ipython",
    "version": 3
   },
   "file_extension": ".py",
   "mimetype": "text/x-python",
   "name": "python",
   "nbconvert_exporter": "python",
   "pygments_lexer": "ipython3",
   "version": "3.13.5"
  }
 },
 "nbformat": 4,
 "nbformat_minor": 5
}
