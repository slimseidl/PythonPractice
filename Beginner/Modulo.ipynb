{
 "cells": [
  {
   "cell_type": "code",
   "execution_count": 1,
   "id": "bc595093",
   "metadata": {},
   "outputs": [],
   "source": [
    "numList = [17, 35, 70, 78, 1050, 10, 32, 11, 1011, 2500]"
   ]
  },
  {
   "cell_type": "code",
   "execution_count": 7,
   "id": "5931c2e9",
   "metadata": {},
   "outputs": [],
   "source": [
    "def modFive(nums):\n",
    "    for num in nums:\n",
    "        if num % 5 == 0:\n",
    "            print(f'{num} is divisible by 5, output: {num / 5}')\n",
    "        else:\n",
    "            None"
   ]
  },
  {
   "cell_type": "code",
   "execution_count": 8,
   "id": "c2a85b5d",
   "metadata": {},
   "outputs": [
    {
     "name": "stdout",
     "output_type": "stream",
     "text": [
      "35 is divisible by 5, output: 7.0\n",
      "70 is divisible by 5, output: 14.0\n",
      "1050 is divisible by 5, output: 210.0\n",
      "10 is divisible by 5, output: 2.0\n",
      "2500 is divisible by 5, output: 500.0\n"
     ]
    }
   ],
   "source": [
    "modFive(numList)"
   ]
  },
  {
   "cell_type": "code",
   "execution_count": null,
   "id": "30f7da7b",
   "metadata": {},
   "outputs": [],
   "source": []
  }
 ],
 "metadata": {
  "kernelspec": {
   "display_name": "Python 3",
   "language": "python",
   "name": "python3"
  },
  "language_info": {
   "codemirror_mode": {
    "name": "ipython",
    "version": 3
   },
   "file_extension": ".py",
   "mimetype": "text/x-python",
   "name": "python",
   "nbconvert_exporter": "python",
   "pygments_lexer": "ipython3",
   "version": "3.13.5"
  }
 },
 "nbformat": 4,
 "nbformat_minor": 5
}
