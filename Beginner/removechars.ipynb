{
 "cells": [
  {
   "cell_type": "code",
   "execution_count": null,
   "id": "89b92e82",
   "metadata": {},
   "outputs": [],
   "source": [
    "def remove_chars(text, n):\n",
    "   x = text[n:-1]\n",
    "   return x"
   ]
  },
  {
   "cell_type": "code",
   "execution_count": null,
   "id": "ef3126dd",
   "metadata": {},
   "outputs": [
    {
     "name": "stdout",
     "output_type": "stream",
     "text": [
      "ll\n"
     ]
    }
   ],
   "source": [
    "print(remove_chars(\"Hello\", 2))"
   ]
  },
  {
   "cell_type": "code",
   "execution_count": 4,
   "id": "4500df01",
   "metadata": {},
   "outputs": [],
   "source": [
    "text = \"Hello\""
   ]
  },
  {
   "cell_type": "code",
   "execution_count": 5,
   "id": "9f779897",
   "metadata": {},
   "outputs": [
    {
     "data": {
      "text/plain": [
       "'ell'"
      ]
     },
     "execution_count": 5,
     "metadata": {},
     "output_type": "execute_result"
    }
   ],
   "source": [
    "text[1:-1]"
   ]
  },
  {
   "cell_type": "code",
   "execution_count": 10,
   "id": "43689429",
   "metadata": {},
   "outputs": [],
   "source": [
    "def remove_chars(text, n):\n",
    "   if n <= len(text):\n",
    "      val = text[n:]\n",
    "      print(val)\n",
    "   else:\n",
    "      print('n is longer than text string')"
   ]
  },
  {
   "cell_type": "code",
   "execution_count": 11,
   "id": "a905cc6b",
   "metadata": {},
   "outputs": [
    {
     "name": "stdout",
     "output_type": "stream",
     "text": [
      "oWorld\n"
     ]
    }
   ],
   "source": [
    "remove_chars('HelloWorld', 4)"
   ]
  },
  {
   "cell_type": "code",
   "execution_count": 12,
   "id": "bd33107b",
   "metadata": {},
   "outputs": [
    {
     "name": "stdout",
     "output_type": "stream",
     "text": [
      " Only A Test\n"
     ]
    }
   ],
   "source": [
    "remove_chars('This Is Only A Test', 7)"
   ]
  },
  {
   "cell_type": "code",
   "execution_count": null,
   "id": "b812371b",
   "metadata": {},
   "outputs": [],
   "source": []
  }
 ],
 "metadata": {
  "kernelspec": {
   "display_name": "Python 3",
   "language": "python",
   "name": "python3"
  },
  "language_info": {
   "codemirror_mode": {
    "name": "ipython",
    "version": 3
   },
   "file_extension": ".py",
   "mimetype": "text/x-python",
   "name": "python",
   "nbconvert_exporter": "python",
   "pygments_lexer": "ipython3",
   "version": "3.13.5"
  }
 },
 "nbformat": 4,
 "nbformat_minor": 5
}
